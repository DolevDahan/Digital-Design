from pynq import Overlay
from pynq import allocate
import numpy as np

# Load the overlay
overlay = Overlay("/home/xilinx/jupyter_notebooks/Bitstream_Files/vector_mult_design3.bit")

vector_mult_ip = overlay.vector_mult_0
dma = overlay.axi_dma_0

# Constants and input data
test_const = 2.5
input_data = np.array([1.5, 2.5, 3.5, 4.5, 5.5], dtype=np.float32)  # Input values

# Allocate buffers
input_buffer = allocate(shape=(len(input_data),), dtype=np.float32)
output_buffer = allocate(shape=(len(input_data),), dtype=np.float32)
np.copyto(input_buffer, input_data)

# Write the constant multiplier
vector_mult_ip.write(0x10, int(np.float32(test_const).view(np.uint32)))

# Allocate input and output buffers
input_buffer = allocate(shape=(len(input_data),), dtype=np.float32)
output_buffer = allocate(shape=(len(input_data),), dtype=np.float32)

# Copy input data into the buffer
np.copyto(input_buffer, input_data)
dma.sendchannel.transfer(input_buffer)
dma.recvchannel.transfer(output_buffer) 
vector_mult_ip.write(0x00, 1)  # Start the IP

# Print input and output results
print("Input Data: ", input_data)
print("Output Data:", output_buffer)