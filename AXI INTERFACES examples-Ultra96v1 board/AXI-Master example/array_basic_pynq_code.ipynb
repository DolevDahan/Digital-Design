from pynq import Overlay
ol = Overlay("/home/xilinx/jupyter_notebooks/Bitstream_Files/axi_master.bit")
help(ol)
my_ip = ol.array_basic_0
my_ip.register_map
from pynq import allocate
import numpy as np 
py_buffer = allocate(shape=(100,), dtype=np.int32)
print("py_buffer physical address {}".format(hex(py_buffer.physical_address)))
my_ip.register_map.a_1 = py_buffer.physical_address
my_ip.register_map.length_r = 100
my_ip.register_map.value_r = 7 
my_ip.register_map.CTRL.AP_START=1
my_ip.register_map.CTRL.AP_DONE
py_buffer
my_ip.register_map.CTRL.AUTO_RESTART=1